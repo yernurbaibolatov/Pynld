{
 "cells": [
  {
   "cell_type": "code",
   "execution_count": 9,
   "metadata": {},
   "outputs": [
    {
     "data": {
      "text/plain": [
       "<bound method InteractiveShell.excepthook of <ipykernel.zmqshell.ZMQInteractiveShell object at 0x000002A8D3805970>>"
      ]
     },
     "execution_count": 9,
     "metadata": {},
     "output_type": "execute_result"
    }
   ],
   "source": [
    "import numpy as np\n",
    "from core import DynamicalSystem\n",
    "from plotting import evolution_plot, phase_portrait, evolution_dot_plot\n",
    "from rich.console import Console\n",
    "from rich.traceback import install\n",
    "from bokeh.plotting import figure, show, output_notebook \n",
    "from bokeh.models import HoverTool, ColumnDataSource\n",
    "from tqdm import tqdm\n",
    "\n",
    "console = Console()\n",
    "install()"
   ]
  },
  {
   "cell_type": "code",
   "execution_count": 10,
   "metadata": {},
   "outputs": [],
   "source": [
    "def system(t, state_vector, params):\n",
    "    x, y, phi1, phi2 = state_vector\n",
    "    omega, gamma, kappa, eps, Omega, L1, L2, L3 = params\n",
    "    eta = -kappa/2\n",
    "    beta = np.tan(gamma)\n",
    "    nu = omega + eta*beta\n",
    "    epsc = eps/np.cos(gamma)\n",
    "    Wt = Omega*t\n",
    "\n",
    "    # forcing terms\n",
    "    Fx = L1*np.cos(Wt) + L2*np.cos(3*Wt) + L3*np.cos(5*Wt)\n",
    "    Fy = L1*np.sin(Wt) + L2*np.sin(3*Wt) + L3*np.sin(5*Wt)\n",
    "\n",
    "    f1 = L1*np.sin(1*Wt-phi1-gamma)\n",
    "    f2 = L2*np.sin(3*Wt-phi1-gamma)\n",
    "    f3 = L3*np.sin(5*Wt-phi1-gamma)\n",
    "\n",
    "    s1 = L1*np.sin(1*Wt-phi2-gamma)\n",
    "    s2 = L2*np.sin(3*Wt-phi2-gamma)\n",
    "    s3 = L3*np.sin(5*Wt-phi2-gamma)\n",
    "\n",
    "    d1 = (omega-1*Omega)/kappa\n",
    "    d2 = (omega-3*Omega)/kappa\n",
    "    d3 = (omega-5*Omega)/kappa\n",
    "\n",
    "    s11 = L1*L1*np.cos(d1)*(np.sin(-0*Wt+d1)+np.sin(2*(1*Wt-phi2)-d1))\n",
    "    s12 = L1*L2*np.cos(d2)*(np.sin(-2*Wt+d2)+np.sin(2*(2*Wt-phi2)-d2))\n",
    "    s13 = L1*L3*np.cos(d3)*(np.sin(-4*Wt+d3)+np.sin(2*(3*Wt-phi2)-d3))\n",
    "    s21 = L2*L1*np.cos(d1)*(np.sin(+2*Wt+d1)+np.sin(2*(2*Wt-phi2)-d1))\n",
    "    s22 = L2*L2*np.cos(d2)*(np.sin(-0*Wt+d2)+np.sin(2*(3*Wt-phi2)-d2))\n",
    "    s23 = L2*L3*np.cos(d3)*(np.sin(-2*Wt+d3)+np.sin(2*(4*Wt-phi2)-d3))\n",
    "    s31 = L3*L1*np.cos(d1)*(np.sin(+4*Wt+d1)+np.sin(2*(3*Wt-phi2)-d1))\n",
    "    s32 = L3*L2*np.cos(d2)*(np.sin(+2*Wt+d2)+np.sin(2*(4*Wt-phi2)-d2))\n",
    "    s33 = L3*L3*np.cos(d3)*(np.sin(-0*Wt+d3)+np.sin(2*(5*Wt-phi2)-d3))\n",
    "    # cartesian equations\n",
    "    xdot = eta*x - nu*y - eta*(x - beta*y)*(x**2 + y**2) + eps*Fx\n",
    "    ydot = eta*y + nu*x - eta*(y + beta*x)*(x**2 + y**2) + eps*Fy\n",
    "\n",
    "    # first-order phase equation\n",
    "    phi_dot_1 = omega + epsc*(f1+f2+f3)\n",
    "\n",
    "    # second-order phase equation\n",
    "    phi_dot_2 = omega + epsc*(s1+s2+s3) + epsc**2*(s11+s12+s13+s21+s22+s23+s31+s32+s33)/(2*kappa)\n",
    "\n",
    "    return np.array([xdot, ydot, phi_dot_1, phi_dot_2], np.float64)"
   ]
  },
  {
   "cell_type": "code",
   "execution_count": 11,
   "metadata": {},
   "outputs": [],
   "source": [
    "def frequency(t, state_vector, state_vector_dot):\n",
    "    x, y, _, _ = state_vector\n",
    "    xdot, ydot, phi_dot_1, phi_dot_2 = state_vector_dot\n",
    "    freq = (ydot*x - xdot*y)/(x**2 + y**2)\n",
    "    return np.array([freq, phi_dot_1, phi_dot_2])"
   ]
  },
  {
   "cell_type": "code",
   "execution_count": 32,
   "metadata": {},
   "outputs": [],
   "source": [
    "p = {\n",
    "    'omega':    1.0,\n",
    "    'gamma':    0.1,\n",
    "    'kappa':    -2.0,\n",
    "    'eps':      0.4,\n",
    "    'Omega':    0.4,\n",
    "    'L1':       1.00,\n",
    "    'L2':       0.10,\n",
    "    'L3':       0.00\n",
    "}\n",
    "\n",
    "# Set initial state and time span\n",
    "u0 = {'x': 1.0, 'y': 0.0, 'phi1': 0.0, 'phi2': 0.0}"
   ]
  },
  {
   "cell_type": "code",
   "execution_count": 33,
   "metadata": {},
   "outputs": [
    {
     "name": "stdout",
     "output_type": "stream",
     "text": [
      "0.32454834306746017 0.3510366433393245\n"
     ]
    }
   ],
   "source": [
    "eps = p['eps']/np.cos(p['gamma'])\n",
    "h = 0.5*(eps*p['L1']/p['kappa'])**2\n",
    "mean_w = p['omega']*(1+h)/(3+h)\n",
    "wing = p['eps']*p['L2']/(3+h)\n",
    "left = mean_w - wing\n",
    "right = mean_w + wing\n",
    "print(left, right)"
   ]
  },
  {
   "cell_type": "code",
   "execution_count": 34,
   "metadata": {},
   "outputs": [],
   "source": [
    "phs = DynamicalSystem(system, t0=0, x0=u0, parameters=p)"
   ]
  },
  {
   "cell_type": "markdown",
   "metadata": {},
   "source": [
    "### Synchronization domain check"
   ]
  },
  {
   "cell_type": "code",
   "execution_count": 35,
   "metadata": {},
   "outputs": [
    {
     "name": "stdout",
     "output_type": "stream",
     "text": [
      "Simulation is running for parameter Omega in range: 0.3:1.3\n",
      "Using all cores for parallel computing (8 is available)\n"
     ]
    }
   ],
   "source": [
    "Omega_range = np.linspace(0.30, 1.30, 500)\n",
    "run_time = 10_000\n",
    "tr_time = 100\n",
    "\n",
    "freqs = phs.run_parameter(frequency, 'Omega', Omega_range, \n",
    "                          t_range=run_time, tr=tr_time)\n",
    "\n",
    "freq_xy = freqs[:,0]\n",
    "freq_f1 = freqs[:,1]\n",
    "freq_f2 = freqs[:,2]"
   ]
  },
  {
   "cell_type": "code",
   "execution_count": 36,
   "metadata": {},
   "outputs": [
    {
     "data": {
      "text/html": [
       "    <style>\n",
       "        .bk-notebook-logo {\n",
       "            display: block;\n",
       "            width: 20px;\n",
       "            height: 20px;\n",
       "            background-image: url(data:image/png;base64,iVBORw0KGgoAAAANSUhEUgAAABQAAAAUCAYAAACNiR0NAAAABHNCSVQICAgIfAhkiAAAAAlwSFlzAAALEgAACxIB0t1+/AAAABx0RVh0U29mdHdhcmUAQWRvYmUgRmlyZXdvcmtzIENTNui8sowAAAOkSURBVDiNjZRtaJVlGMd/1/08zzln5zjP1LWcU9N0NkN8m2CYjpgQYQXqSs0I84OLIC0hkEKoPtiH3gmKoiJDU7QpLgoLjLIQCpEsNJ1vqUOdO7ppbuec5+V+rj4ctwzd8IIbbi6u+8f1539dt3A78eXC7QizUF7gyV1fD1Yqg4JWz84yffhm0qkFqBogB9rM8tZdtwVsPUhWhGcFJngGeWrPzHm5oaMmkfEg1usvLFyc8jLRqDOMru7AyC8saQr7GG7f5fvDeH7Ej8CM66nIF+8yngt6HWaKh7k49Soy9nXurCi1o3qUbS3zWfrYeQDTB/Qj6kX6Ybhw4B+bOYoLKCC9H3Nu/leUTZ1JdRWkkn2ldcCamzrcf47KKXdAJllSlxAOkRgyHsGC/zRday5Qld9DyoM4/q/rUoy/CXh3jzOu3bHUVZeU+DEn8FInkPBFlu3+nW3Nw0mk6vCDiWg8CeJaxEwuHS3+z5RgY+YBR6V1Z1nxSOfoaPa4LASWxxdNp+VWTk7+4vzaou8v8PN+xo+KY2xsw6une2frhw05CTYOmQvsEhjhWjn0bmXPjpE1+kplmmkP3suftwTubK9Vq22qKmrBhpY4jvd5afdRA3wGjFAgcnTK2s4hY0/GPNIb0nErGMCRxWOOX64Z8RAC4oCXdklmEvcL8o0BfkNK4lUg9HTl+oPlQxdNo3Mg4Nv175e/1LDGzZen30MEjRUtmXSfiTVu1kK8W4txyV6BMKlbgk3lMwYCiusNy9fVfvvwMxv8Ynl6vxoByANLTWplvuj/nF9m2+PDtt1eiHPBr1oIfhCChQMBw6Aw0UulqTKZdfVvfG7VcfIqLG9bcldL/+pdWTLxLUy8Qq38heUIjh4XlzZxzQm19lLFlr8vdQ97rjZVOLf8nclzckbcD4wxXMidpX30sFd37Fv/GtwwhzhxGVAprjbg0gCAEeIgwCZyTV2Z1REEW8O4py0wsjeloKoMr6iCY6dP92H6Vw/oTyICIthibxjm/DfN9lVz8IqtqKYLUXfoKVMVQVVJOElGjrnnUt9T9wbgp8AyYKaGlqingHZU/uG2NTZSVqwHQTWkx9hxjkpWDaCg6Ckj5qebgBVbT3V3NNXMSiWSDdGV3hrtzla7J+duwPOToIg42ChPQOQjspnSlp1V+Gjdged7+8UN5CRAV7a5EdFNwCjEaBR27b3W890TE7g24NAP/mMDXRWrGoFPQI9ls/MWO2dWFAar/xcOIImbbpA3zgAAAABJRU5ErkJggg==);\n",
       "        }\n",
       "    </style>\n",
       "    <div>\n",
       "        <a href=\"https://bokeh.org\" target=\"_blank\" class=\"bk-notebook-logo\"></a>\n",
       "        <span id=\"b2d0d974-f171-41a5-9206-57ea279ade7c\">Loading BokehJS ...</span>\n",
       "    </div>\n"
      ]
     },
     "metadata": {},
     "output_type": "display_data"
    },
    {
     "data": {
      "application/javascript": "'use strict';\n(function(root) {\n  function now() {\n    return new Date();\n  }\n\n  const force = true;\n\n  if (typeof root._bokeh_onload_callbacks === \"undefined\" || force === true) {\n    root._bokeh_onload_callbacks = [];\n    root._bokeh_is_loading = undefined;\n  }\n\nconst JS_MIME_TYPE = 'application/javascript';\n  const HTML_MIME_TYPE = 'text/html';\n  const EXEC_MIME_TYPE = 'application/vnd.bokehjs_exec.v0+json';\n  const CLASS_NAME = 'output_bokeh rendered_html';\n\n  /**\n   * Render data to the DOM node\n   */\n  function render(props, node) {\n    const script = document.createElement(\"script\");\n    node.appendChild(script);\n  }\n\n  /**\n   * Handle when an output is cleared or removed\n   */\n  function handleClearOutput(event, handle) {\n    function drop(id) {\n      const view = Bokeh.index.get_by_id(id)\n      if (view != null) {\n        view.model.document.clear()\n        Bokeh.index.delete(view)\n      }\n    }\n\n    const cell = handle.cell;\n\n    const id = cell.output_area._bokeh_element_id;\n    const server_id = cell.output_area._bokeh_server_id;\n\n    // Clean up Bokeh references\n    if (id != null) {\n      drop(id)\n    }\n\n    if (server_id !== undefined) {\n      // Clean up Bokeh references\n      const cmd_clean = \"from bokeh.io.state import curstate; print(curstate().uuid_to_server['\" + server_id + \"'].get_sessions()[0].document.roots[0]._id)\";\n      cell.notebook.kernel.execute(cmd_clean, {\n        iopub: {\n          output: function(msg) {\n            const id = msg.content.text.trim()\n            drop(id)\n          }\n        }\n      });\n      // Destroy server and session\n      const cmd_destroy = \"import bokeh.io.notebook as ion; ion.destroy_server('\" + server_id + \"')\";\n      cell.notebook.kernel.execute(cmd_destroy);\n    }\n  }\n\n  /**\n   * Handle when a new output is added\n   */\n  function handleAddOutput(event, handle) {\n    const output_area = handle.output_area;\n    const output = handle.output;\n\n    // limit handleAddOutput to display_data with EXEC_MIME_TYPE content only\n    if ((output.output_type != \"display_data\") || (!Object.prototype.hasOwnProperty.call(output.data, EXEC_MIME_TYPE))) {\n      return\n    }\n\n    const toinsert = output_area.element.find(\".\" + CLASS_NAME.split(' ')[0]);\n\n    if (output.metadata[EXEC_MIME_TYPE][\"id\"] !== undefined) {\n      toinsert[toinsert.length - 1].firstChild.textContent = output.data[JS_MIME_TYPE];\n      // store reference to embed id on output_area\n      output_area._bokeh_element_id = output.metadata[EXEC_MIME_TYPE][\"id\"];\n    }\n    if (output.metadata[EXEC_MIME_TYPE][\"server_id\"] !== undefined) {\n      const bk_div = document.createElement(\"div\");\n      bk_div.innerHTML = output.data[HTML_MIME_TYPE];\n      const script_attrs = bk_div.children[0].attributes;\n      for (let i = 0; i < script_attrs.length; i++) {\n        toinsert[toinsert.length - 1].firstChild.setAttribute(script_attrs[i].name, script_attrs[i].value);\n        toinsert[toinsert.length - 1].firstChild.textContent = bk_div.children[0].textContent\n      }\n      // store reference to server id on output_area\n      output_area._bokeh_server_id = output.metadata[EXEC_MIME_TYPE][\"server_id\"];\n    }\n  }\n\n  function register_renderer(events, OutputArea) {\n\n    function append_mime(data, metadata, element) {\n      // create a DOM node to render to\n      const toinsert = this.create_output_subarea(\n        metadata,\n        CLASS_NAME,\n        EXEC_MIME_TYPE\n      );\n      this.keyboard_manager.register_events(toinsert);\n      // Render to node\n      const props = {data: data, metadata: metadata[EXEC_MIME_TYPE]};\n      render(props, toinsert[toinsert.length - 1]);\n      element.append(toinsert);\n      return toinsert\n    }\n\n    /* Handle when an output is cleared or removed */\n    events.on('clear_output.CodeCell', handleClearOutput);\n    events.on('delete.Cell', handleClearOutput);\n\n    /* Handle when a new output is added */\n    events.on('output_added.OutputArea', handleAddOutput);\n\n    /**\n     * Register the mime type and append_mime function with output_area\n     */\n    OutputArea.prototype.register_mime_type(EXEC_MIME_TYPE, append_mime, {\n      /* Is output safe? */\n      safe: true,\n      /* Index of renderer in `output_area.display_order` */\n      index: 0\n    });\n  }\n\n  // register the mime type if in Jupyter Notebook environment and previously unregistered\n  if (root.Jupyter !== undefined) {\n    const events = require('base/js/events');\n    const OutputArea = require('notebook/js/outputarea').OutputArea;\n\n    if (OutputArea.prototype.mime_types().indexOf(EXEC_MIME_TYPE) == -1) {\n      register_renderer(events, OutputArea);\n    }\n  }\n  if (typeof (root._bokeh_timeout) === \"undefined\" || force === true) {\n    root._bokeh_timeout = Date.now() + 5000;\n    root._bokeh_failed_load = false;\n  }\n\n  const NB_LOAD_WARNING = {'data': {'text/html':\n     \"<div style='background-color: #fdd'>\\n\"+\n     \"<p>\\n\"+\n     \"BokehJS does not appear to have successfully loaded. If loading BokehJS from CDN, this \\n\"+\n     \"may be due to a slow or bad network connection. Possible fixes:\\n\"+\n     \"</p>\\n\"+\n     \"<ul>\\n\"+\n     \"<li>re-rerun `output_notebook()` to attempt to load from CDN again, or</li>\\n\"+\n     \"<li>use INLINE resources instead, as so:</li>\\n\"+\n     \"</ul>\\n\"+\n     \"<code>\\n\"+\n     \"from bokeh.resources import INLINE\\n\"+\n     \"output_notebook(resources=INLINE)\\n\"+\n     \"</code>\\n\"+\n     \"</div>\"}};\n\n  function display_loaded(error = null) {\n    const el = document.getElementById(\"b2d0d974-f171-41a5-9206-57ea279ade7c\");\n    if (el != null) {\n      const html = (() => {\n        if (typeof root.Bokeh === \"undefined\") {\n          if (error == null) {\n            return \"BokehJS is loading ...\";\n          } else {\n            return \"BokehJS failed to load.\";\n          }\n        } else {\n          const prefix = `BokehJS ${root.Bokeh.version}`;\n          if (error == null) {\n            return `${prefix} successfully loaded.`;\n          } else {\n            return `${prefix} <b>encountered errors</b> while loading and may not function as expected.`;\n          }\n        }\n      })();\n      el.innerHTML = html;\n\n      if (error != null) {\n        const wrapper = document.createElement(\"div\");\n        wrapper.style.overflow = \"auto\";\n        wrapper.style.height = \"5em\";\n        wrapper.style.resize = \"vertical\";\n        const content = document.createElement(\"div\");\n        content.style.fontFamily = \"monospace\";\n        content.style.whiteSpace = \"pre-wrap\";\n        content.style.backgroundColor = \"rgb(255, 221, 221)\";\n        content.textContent = error.stack ?? error.toString();\n        wrapper.append(content);\n        el.append(wrapper);\n      }\n    } else if (Date.now() < root._bokeh_timeout) {\n      setTimeout(() => display_loaded(error), 100);\n    }\n  }\n\n  function run_callbacks() {\n    try {\n      root._bokeh_onload_callbacks.forEach(function(callback) {\n        if (callback != null)\n          callback();\n      });\n    } finally {\n      delete root._bokeh_onload_callbacks\n    }\n    console.debug(\"Bokeh: all callbacks have finished\");\n  }\n\n  function load_libs(css_urls, js_urls, callback) {\n    if (css_urls == null) css_urls = [];\n    if (js_urls == null) js_urls = [];\n\n    root._bokeh_onload_callbacks.push(callback);\n    if (root._bokeh_is_loading > 0) {\n      console.debug(\"Bokeh: BokehJS is being loaded, scheduling callback at\", now());\n      return null;\n    }\n    if (js_urls == null || js_urls.length === 0) {\n      run_callbacks();\n      return null;\n    }\n    console.debug(\"Bokeh: BokehJS not loaded, scheduling load and callback at\", now());\n    root._bokeh_is_loading = css_urls.length + js_urls.length;\n\n    function on_load() {\n      root._bokeh_is_loading--;\n      if (root._bokeh_is_loading === 0) {\n        console.debug(\"Bokeh: all BokehJS libraries/stylesheets loaded\");\n        run_callbacks()\n      }\n    }\n\n    function on_error(url) {\n      console.error(\"failed to load \" + url);\n    }\n\n    for (let i = 0; i < css_urls.length; i++) {\n      const url = css_urls[i];\n      const element = document.createElement(\"link\");\n      element.onload = on_load;\n      element.onerror = on_error.bind(null, url);\n      element.rel = \"stylesheet\";\n      element.type = \"text/css\";\n      element.href = url;\n      console.debug(\"Bokeh: injecting link tag for BokehJS stylesheet: \", url);\n      document.body.appendChild(element);\n    }\n\n    for (let i = 0; i < js_urls.length; i++) {\n      const url = js_urls[i];\n      const element = document.createElement('script');\n      element.onload = on_load;\n      element.onerror = on_error.bind(null, url);\n      element.async = false;\n      element.src = url;\n      console.debug(\"Bokeh: injecting script tag for BokehJS library: \", url);\n      document.head.appendChild(element);\n    }\n  };\n\n  function inject_raw_css(css) {\n    const element = document.createElement(\"style\");\n    element.appendChild(document.createTextNode(css));\n    document.body.appendChild(element);\n  }\n\n  const js_urls = [\"https://cdn.bokeh.org/bokeh/release/bokeh-3.6.2.min.js\", \"https://cdn.bokeh.org/bokeh/release/bokeh-gl-3.6.2.min.js\", \"https://cdn.bokeh.org/bokeh/release/bokeh-widgets-3.6.2.min.js\", \"https://cdn.bokeh.org/bokeh/release/bokeh-tables-3.6.2.min.js\", \"https://cdn.bokeh.org/bokeh/release/bokeh-mathjax-3.6.2.min.js\"];\n  const css_urls = [];\n\n  const inline_js = [    function(Bokeh) {\n      Bokeh.set_log_level(\"info\");\n    },\nfunction(Bokeh) {\n    }\n  ];\n\n  function run_inline_js() {\n    if (root.Bokeh !== undefined || force === true) {\n      try {\n            for (let i = 0; i < inline_js.length; i++) {\n      inline_js[i].call(root, root.Bokeh);\n    }\n\n      } catch (error) {display_loaded(error);throw error;\n      }if (force === true) {\n        display_loaded();\n      }} else if (Date.now() < root._bokeh_timeout) {\n      setTimeout(run_inline_js, 100);\n    } else if (!root._bokeh_failed_load) {\n      console.log(\"Bokeh: BokehJS failed to load within specified timeout.\");\n      root._bokeh_failed_load = true;\n    } else if (force !== true) {\n      const cell = $(document.getElementById(\"b2d0d974-f171-41a5-9206-57ea279ade7c\")).parents('.cell').data().cell;\n      cell.output_area.append_execute_result(NB_LOAD_WARNING)\n    }\n  }\n\n  if (root._bokeh_is_loading === 0) {\n    console.debug(\"Bokeh: BokehJS loaded, going straight to plotting\");\n    run_inline_js();\n  } else {\n    load_libs(css_urls, js_urls, function() {\n      console.debug(\"Bokeh: BokehJS plotting callback run at\", now());\n      run_inline_js();\n    });\n  }\n}(window));",
      "application/vnd.bokehjs_load.v0+json": ""
     },
     "metadata": {},
     "output_type": "display_data"
    },
    {
     "data": {
      "text/html": [
       "\n",
       "  <div id=\"c26ad5b1-c668-4f45-93a9-d7fcbaa232ba\" data-root-id=\"p1297\" style=\"display: contents;\"></div>\n"
      ]
     },
     "metadata": {},
     "output_type": "display_data"
    },
    {
     "data": {
      "application/javascript": "(function(root) {\n  function embed_document(root) {\n  const docs_json = {\"f78978b8-8960-4c32-be30-554b741abb7d\":{\"version\":\"3.6.2\",\"title\":\"Bokeh Application\",\"roots\":[{\"type\":\"object\",\"name\":\"Figure\",\"id\":\"p1297\",\"attributes\":{\"width\":1200,\"x_range\":{\"type\":\"object\",\"name\":\"DataRange1d\",\"id\":\"p1298\"},\"y_range\":{\"type\":\"object\",\"name\":\"DataRange1d\",\"id\":\"p1299\"},\"x_scale\":{\"type\":\"object\",\"name\":\"LinearScale\",\"id\":\"p1307\"},\"y_scale\":{\"type\":\"object\",\"name\":\"LinearScale\",\"id\":\"p1308\"},\"title\":{\"type\":\"object\",\"name\":\"Title\",\"id\":\"p1300\",\"attributes\":{\"text\":\"Synchronization domain\"}},\"renderers\":[{\"type\":\"object\",\"name\":\"GlyphRenderer\",\"id\":\"p1338\",\"attributes\":{\"data_source\":{\"type\":\"object\",\"name\":\"ColumnDataSource\",\"id\":\"p1332\",\"attributes\":{\"selected\":{\"type\":\"object\",\"name\":\"Selection\",\"id\":\"p1333\",\"attributes\":{\"indices\":[],\"line_indices\":[]}},\"selection_policy\":{\"type\":\"object\",\"name\":\"UnionRenderers\",\"id\":\"p1334\"},\"data\":{\"type\":\"map\",\"entries\":[[\"x\",{\"type\":\"ndarray\",\"array\":{\"type\":\"bytes\",\"data\":\"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\"},\"shape\":[500],\"dtype\":\"float64\",\"order\":\"little\"}],[\"y\",{\"type\":\"ndarray\",\"array\":{\"type\":\"bytes\",\"data\":\"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\"},\"shape\":[500],\"dtype\":\"float64\",\"order\":\"little\"}]]}}},\"view\":{\"type\":\"object\",\"name\":\"CDSView\",\"id\":\"p1339\",\"attributes\":{\"filter\":{\"type\":\"object\",\"name\":\"AllIndices\",\"id\":\"p1340\"}}},\"glyph\":{\"type\":\"object\",\"name\":\"Line\",\"id\":\"p1335\",\"attributes\":{\"x\":{\"type\":\"field\",\"field\":\"x\"},\"y\":{\"type\":\"field\",\"field\":\"y\"},\"line_color\":\"#344966\",\"line_width\":2}},\"nonselection_glyph\":{\"type\":\"object\",\"name\":\"Line\",\"id\":\"p1336\",\"attributes\":{\"x\":{\"type\":\"field\",\"field\":\"x\"},\"y\":{\"type\":\"field\",\"field\":\"y\"},\"line_color\":\"#344966\",\"line_alpha\":0.1,\"line_width\":2}},\"muted_glyph\":{\"type\":\"object\",\"name\":\"Line\",\"id\":\"p1337\",\"attributes\":{\"x\":{\"type\":\"field\",\"field\":\"x\"},\"y\":{\"type\":\"field\",\"field\":\"y\"},\"line_color\":\"#344966\",\"line_alpha\":0.2,\"line_width\":2}}}},{\"type\":\"object\",\"name\":\"GlyphRenderer\",\"id\":\"p1349\",\"attributes\":{\"data_source\":{\"type\":\"object\",\"name\":\"ColumnDataSource\",\"id\":\"p1343\",\"attributes\":{\"selected\":{\"type\":\"object\",\"name\":\"Selection\",\"id\":\"p1344\",\"attributes\":{\"indices\":[],\"line_indices\":[]}},\"selection_policy\":{\"type\":\"object\",\"name\":\"UnionRenderers\",\"id\":\"p1345\"},\"data\":{\"type\":\"map\",\"entries\":[[\"x\",{\"type\":\"ndarray\",\"array\":{\"type\":\"bytes\",\"data\":\"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\"},\"shape\":[500],\"dtype\":\"float64\",\"order\":\"little\"}],[\"y\",{\"type\":\"ndarray\",\"array\":{\"type\":\"bytes\",\"data\":\"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\"},\"shape\":[500],\"dtype\":\"float64\",\"order\":\"little\"}]]}}},\"view\":{\"type\":\"object\",\"name\":\"CDSView\",\"id\":\"p1350\",\"attributes\":{\"filter\":{\"type\":\"object\",\"name\":\"AllIndices\",\"id\":\"p1351\"}}},\"glyph\":{\"type\":\"object\",\"name\":\"Line\",\"id\":\"p1346\",\"attributes\":{\"x\":{\"type\":\"field\",\"field\":\"x\"},\"y\":{\"type\":\"field\",\"field\":\"y\"},\"line_color\":\"#FF6666\",\"line_width\":2}},\"nonselection_glyph\":{\"type\":\"object\",\"name\":\"Line\",\"id\":\"p1347\",\"attributes\":{\"x\":{\"type\":\"field\",\"field\":\"x\"},\"y\":{\"type\":\"field\",\"field\":\"y\"},\"line_color\":\"#FF6666\",\"line_alpha\":0.1,\"line_width\":2}},\"muted_glyph\":{\"type\":\"object\",\"name\":\"Line\",\"id\":\"p1348\",\"attributes\":{\"x\":{\"type\":\"field\",\"field\":\"x\"},\"y\":{\"type\":\"field\",\"field\":\"y\"},\"line_color\":\"#FF6666\",\"line_alpha\":0.2,\"line_width\":2}}}},{\"type\":\"object\",\"name\":\"GlyphRenderer\",\"id\":\"p1359\",\"attributes\":{\"data_source\":{\"type\":\"object\",\"name\":\"ColumnDataSource\",\"id\":\"p1353\",\"attributes\":{\"selected\":{\"type\":\"object\",\"name\":\"Selection\",\"id\":\"p1354\",\"attributes\":{\"indices\":[],\"line_indices\":[]}},\"selection_policy\":{\"type\":\"object\",\"name\":\"UnionRenderers\",\"id\":\"p1355\"},\"data\":{\"type\":\"map\",\"entries\":[[\"x\",{\"type\":\"ndarray\",\"array\":{\"type\":\"bytes\",\"data\":\"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\"},\"shape\":[500],\"dtype\":\"float64\",\"order\":\"little\"}],[\"y\",{\"type\":\"ndarray\",\"array\":{\"type\":\"bytes\",\"data\":\"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\"},\"shape\":[500],\"dtype\":\"float64\",\"order\":\"little\"}]]}}},\"view\":{\"type\":\"object\",\"name\":\"CDSView\",\"id\":\"p1360\",\"attributes\":{\"filter\":{\"type\":\"object\",\"name\":\"AllIndices\",\"id\":\"p1361\"}}},\"glyph\":{\"type\":\"object\",\"name\":\"Line\",\"id\":\"p1356\",\"attributes\":{\"x\":{\"type\":\"field\",\"field\":\"x\"},\"y\":{\"type\":\"field\",\"field\":\"y\"},\"line_color\":\"#55D6BE\",\"line_width\":2}},\"nonselection_glyph\":{\"type\":\"object\",\"name\":\"Line\",\"id\":\"p1357\",\"attributes\":{\"x\":{\"type\":\"field\",\"field\":\"x\"},\"y\":{\"type\":\"field\",\"field\":\"y\"},\"line_color\":\"#55D6BE\",\"line_alpha\":0.1,\"line_width\":2}},\"muted_glyph\":{\"type\":\"object\",\"name\":\"Line\",\"id\":\"p1358\",\"attributes\":{\"x\":{\"type\":\"field\",\"field\":\"x\"},\"y\":{\"type\":\"field\",\"field\":\"y\"},\"line_color\":\"#55D6BE\",\"line_alpha\":0.2,\"line_width\":2}}}}],\"toolbar\":{\"type\":\"object\",\"name\":\"Toolbar\",\"id\":\"p1306\",\"attributes\":{\"tools\":[{\"type\":\"object\",\"name\":\"PanTool\",\"id\":\"p1319\"},{\"type\":\"object\",\"name\":\"WheelZoomTool\",\"id\":\"p1320\",\"attributes\":{\"renderers\":\"auto\"}},{\"type\":\"object\",\"name\":\"BoxZoomTool\",\"id\":\"p1321\",\"attributes\":{\"overlay\":{\"type\":\"object\",\"name\":\"BoxAnnotation\",\"id\":\"p1322\",\"attributes\":{\"syncable\":false,\"line_color\":\"black\",\"line_alpha\":1.0,\"line_width\":2,\"line_dash\":[4,4],\"fill_color\":\"lightgrey\",\"fill_alpha\":0.5,\"level\":\"overlay\",\"visible\":false,\"left\":{\"type\":\"number\",\"value\":\"nan\"},\"right\":{\"type\":\"number\",\"value\":\"nan\"},\"top\":{\"type\":\"number\",\"value\":\"nan\"},\"bottom\":{\"type\":\"number\",\"value\":\"nan\"},\"left_units\":\"canvas\",\"right_units\":\"canvas\",\"top_units\":\"canvas\",\"bottom_units\":\"canvas\",\"handles\":{\"type\":\"object\",\"name\":\"BoxInteractionHandles\",\"id\":\"p1328\",\"attributes\":{\"all\":{\"type\":\"object\",\"name\":\"AreaVisuals\",\"id\":\"p1327\",\"attributes\":{\"fill_color\":\"white\",\"hover_fill_color\":\"lightgray\"}}}}}}}},{\"type\":\"object\",\"name\":\"SaveTool\",\"id\":\"p1329\"},{\"type\":\"object\",\"name\":\"ResetTool\",\"id\":\"p1330\"},{\"type\":\"object\",\"name\":\"HelpTool\",\"id\":\"p1331\"},{\"type\":\"object\",\"name\":\"HoverTool\",\"id\":\"p1367\",\"attributes\":{\"renderers\":\"auto\",\"tooltips\":[[\"Omega\",\"@x\"],[\"Ratio\",\"@y\"]]}}]}},\"left\":[{\"type\":\"object\",\"name\":\"LinearAxis\",\"id\":\"p1314\",\"attributes\":{\"ticker\":{\"type\":\"object\",\"name\":\"BasicTicker\",\"id\":\"p1315\",\"attributes\":{\"mantissas\":[1,2,5]}},\"formatter\":{\"type\":\"object\",\"name\":\"BasicTickFormatter\",\"id\":\"p1316\"},\"axis_label\":\"freq/Omega\",\"major_label_policy\":{\"type\":\"object\",\"name\":\"AllLabels\",\"id\":\"p1317\"}}}],\"below\":[{\"type\":\"object\",\"name\":\"LinearAxis\",\"id\":\"p1309\",\"attributes\":{\"ticker\":{\"type\":\"object\",\"name\":\"BasicTicker\",\"id\":\"p1310\",\"attributes\":{\"mantissas\":[1,2,5]}},\"formatter\":{\"type\":\"object\",\"name\":\"BasicTickFormatter\",\"id\":\"p1311\"},\"axis_label\":\"Omega\",\"major_label_policy\":{\"type\":\"object\",\"name\":\"AllLabels\",\"id\":\"p1312\"}}}],\"center\":[{\"type\":\"object\",\"name\":\"Grid\",\"id\":\"p1313\",\"attributes\":{\"axis\":{\"id\":\"p1309\"}}},{\"type\":\"object\",\"name\":\"Grid\",\"id\":\"p1318\",\"attributes\":{\"dimension\":1,\"axis\":{\"id\":\"p1314\"}}},{\"type\":\"object\",\"name\":\"Legend\",\"id\":\"p1341\",\"attributes\":{\"items\":[{\"type\":\"object\",\"name\":\"LegendItem\",\"id\":\"p1342\",\"attributes\":{\"label\":{\"type\":\"value\",\"value\":\"Full XY\"},\"renderers\":[{\"id\":\"p1338\"}]}},{\"type\":\"object\",\"name\":\"LegendItem\",\"id\":\"p1352\",\"attributes\":{\"label\":{\"type\":\"value\",\"value\":\"First-order\"},\"renderers\":[{\"id\":\"p1349\"}]}},{\"type\":\"object\",\"name\":\"LegendItem\",\"id\":\"p1362\",\"attributes\":{\"label\":{\"type\":\"value\",\"value\":\"Second-order\"},\"renderers\":[{\"id\":\"p1359\"}]}}]}},{\"type\":\"object\",\"name\":\"Span\",\"id\":\"p1363\",\"attributes\":{\"location\":0.31993305442132725,\"dimension\":\"height\",\"line_color\":\"red\",\"line_width\":2}},{\"type\":\"object\",\"name\":\"Span\",\"id\":\"p1364\",\"attributes\":{\"location\":0.34673361224533944,\"dimension\":\"height\",\"line_color\":\"red\",\"line_width\":2}},{\"type\":\"object\",\"name\":\"Span\",\"id\":\"p1365\",\"attributes\":{\"location\":0.31993305442132725,\"dimension\":\"height\",\"line_color\":\"grey\",\"line_width\":2}},{\"type\":\"object\",\"name\":\"Span\",\"id\":\"p1366\",\"attributes\":{\"location\":0.34673361224533944,\"dimension\":\"height\",\"line_color\":\"grey\",\"line_width\":2}}]}}]}};\n  const render_items = [{\"docid\":\"f78978b8-8960-4c32-be30-554b741abb7d\",\"roots\":{\"p1297\":\"c26ad5b1-c668-4f45-93a9-d7fcbaa232ba\"},\"root_ids\":[\"p1297\"]}];\n  void root.Bokeh.embed.embed_items_notebook(docs_json, render_items);\n  }\n  if (root.Bokeh !== undefined) {\n    embed_document(root);\n  } else {\n    let attempts = 0;\n    const timer = setInterval(function(root) {\n      if (root.Bokeh !== undefined) {\n        clearInterval(timer);\n        embed_document(root);\n      } else {\n        attempts++;\n        if (attempts > 100) {\n          clearInterval(timer);\n          console.log(\"Bokeh: ERROR: Unable to run BokehJS code because BokehJS library is missing\");\n        }\n      }\n    }, 10, root)\n  }\n})(window);",
      "application/vnd.bokehjs_exec.v0+json": ""
     },
     "metadata": {
      "application/vnd.bokehjs_exec.v0+json": {
       "id": "p1297"
      }
     },
     "output_type": "display_data"
    }
   ],
   "source": [
    "from bokeh.models import Span\n",
    "plt = figure(title=\"Synchronization domain\", \n",
    "               x_axis_label=\"Omega\",\n",
    "               y_axis_label=\"freq/Omega\",\n",
    "               width=1200,\n",
    "               height=600)\n",
    "output_notebook()\n",
    "plt.line(Omega_range, freq_xy/Omega_range,\n",
    "            legend_label=\"Full XY\",\n",
    "            line_width=2, color='#344966')\n",
    "plt.line(Omega_range, freq_f1/Omega_range,\n",
    "            legend_label=\"First-order\",\n",
    "            line_width=2, color='#FF6666')\n",
    "plt.line(Omega_range, freq_f2/Omega_range,\n",
    "            legend_label=\"Second-order\",\n",
    "            line_width=2, color='#55D6BE')\n",
    "\n",
    "w, eps, kappa = p['omega'], p['eps'], p['kappa']\n",
    "L1, L2, gamma = p['L1'], p['L2'], p['gamma']\n",
    "\n",
    "# shift = 0.0695 # for eps = 0.3, gamma = 0.1\n",
    "# shift = 0.125 # for eps = 0.4, gamma = 0.1\n",
    "# shift = 0.123 # for eps = 0.4, gamma = 0.0\n",
    "\n",
    "h = 0.5*(eps*L1/(kappa*np.cos(gamma)))**2\n",
    "\n",
    "Omega_min_3 = (w - eps*(L2)/np.cos(gamma))/3\n",
    "Omega_max_3 = (w + eps*(L2)/np.cos(gamma))/3\n",
    "Omega_min_3s = (w*(1+h) - eps*L2/np.cos(gamma))/(3+h)\n",
    "Omega_max_3s = (w*(1+h) + eps*L2/np.cos(gamma))/(3+h)\n",
    "\n",
    "vline1 = Span(location=Omega_min_3, dimension='height', \n",
    "              line_color='red', line_width=2)\n",
    "vline2 = Span(location=Omega_max_3, dimension='height', \n",
    "              line_color='red', line_width=2)\n",
    "\n",
    "vline4 = Span(location=Omega_min_3, dimension='height', \n",
    "              line_color='grey', line_width=2)\n",
    "vline5 = Span(location=Omega_max_3, dimension='height', \n",
    "              line_color='grey', line_width=2)\n",
    "\n",
    "plt.add_layout(vline1)    \n",
    "plt.add_layout(vline2)    \n",
    "plt.add_layout(vline4)    \n",
    "plt.add_layout(vline5)    \n",
    "\n",
    "plt.add_tools(HoverTool(tooltips=[(\"Omega\", \"@x\"), (\"Ratio\", \"@y\")]))\n",
    "plt.legend.location = 'top_right'\n",
    "show(plt)"
   ]
  },
  {
   "cell_type": "code",
   "execution_count": null,
   "metadata": {},
   "outputs": [],
   "source": []
  }
 ],
 "metadata": {
  "kernelspec": {
   "display_name": "sci",
   "language": "python",
   "name": "python3"
  },
  "language_info": {
   "codemirror_mode": {
    "name": "ipython",
    "version": 3
   },
   "file_extension": ".py",
   "mimetype": "text/x-python",
   "name": "python",
   "nbconvert_exporter": "python",
   "pygments_lexer": "ipython3",
   "version": "3.12.1"
  }
 },
 "nbformat": 4,
 "nbformat_minor": 2
}
